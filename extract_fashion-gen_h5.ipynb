{
 "cells": [
  {
   "cell_type": "code",
   "execution_count": 1,
   "metadata": {
    "collapsed": true,
    "pycharm": {
     "name": "#%%\n"
    }
   },
   "outputs": [],
   "source": [
    "import h5py\n",
    "import numpy as np\n",
    "BATCH_SIZE = 32\n",
    "\n",
    "def get_batch(file_h5, features, batch_number, batch_size=32):\n",
    "\n",
    "    list_of_arrays = []\n",
    "    lb, ub = batch_number * batch_size, (batch_number + 1) * batch_size\n",
    "    for feature in features:\n",
    "        list_of_arrays.append(file_h5[feature][lb: ub])\n",
    "    return list_of_arrays\n",
    "\n"
   ]
  },
  {
   "cell_type": "code",
   "execution_count": 2,
   "outputs": [],
   "source": [
    "# open the file\n",
    "file_h5 = h5py.File(r\"D:\\DataBase\\FashionGEN\\fashiongen_256_256_train.h5\", mode='r')\n",
    "# define the features to be retrieved\n",
    "list_of_features = ['input_image', 'input_description']\n",
    "dataset_len = len(file_h5['input_image'])\n",
    "nb_batches = int(dataset_len / BATCH_SIZE)\n"
   ],
   "metadata": {
    "collapsed": false,
    "pycharm": {
     "name": "#%%\n"
    }
   }
  },
  {
   "cell_type": "code",
   "execution_count": 3,
   "outputs": [],
   "source": [
    "batch_nb = np.random.randint(0, nb_batches)\n",
    "# get the first batch of the data\n"
   ],
   "metadata": {
    "collapsed": false,
    "pycharm": {
     "name": "#%%\n"
    }
   }
  },
  {
   "cell_type": "code",
   "execution_count": 15,
   "outputs": [],
   "source": [
    "output_img_folder=r\"D:\\DataBase\\FashionGEN\\imgs\"\n",
    "output_csv_file=r\"D:\\DataBase\\FashionGEN\\corresponding_discriptions.csv\""
   ],
   "metadata": {
    "collapsed": false,
    "pycharm": {
     "name": "#%%\n"
    }
   }
  },
  {
   "cell_type": "code",
   "execution_count": 24,
   "outputs": [
    {
     "ename": "KeyboardInterrupt",
     "evalue": "",
     "output_type": "error",
     "traceback": [
      "\u001B[1;31m---------------------------------------------------------------------------\u001B[0m",
      "\u001B[1;31mKeyboardInterrupt\u001B[0m                         Traceback (most recent call last)",
      "Cell \u001B[1;32mIn [24], line 7\u001B[0m\n\u001B[0;32m      5\u001B[0m csvwriter \u001B[38;5;241m=\u001B[39m csv\u001B[38;5;241m.\u001B[39mwriter(csvfile)\n\u001B[0;32m      6\u001B[0m \u001B[38;5;28;01mfor\u001B[39;00m batch_nb \u001B[38;5;129;01min\u001B[39;00m \u001B[38;5;28mrange\u001B[39m(nb_batches):\n\u001B[1;32m----> 7\u001B[0m     list_of_arrays \u001B[38;5;241m=\u001B[39m \u001B[43mget_batch\u001B[49m\u001B[43m(\u001B[49m\u001B[43mfile_h5\u001B[49m\u001B[43m,\u001B[49m\u001B[43m \u001B[49m\u001B[43mlist_of_features\u001B[49m\u001B[43m,\u001B[49m\u001B[43m \u001B[49m\u001B[43mbatch_nb\u001B[49m\u001B[43m,\u001B[49m\u001B[43m \u001B[49m\u001B[43mBATCH_SIZE\u001B[49m\u001B[43m)\u001B[49m\n\u001B[0;32m      8\u001B[0m     \u001B[38;5;28;01mfor\u001B[39;00m i,(image,descriptions) \u001B[38;5;129;01min\u001B[39;00m \u001B[38;5;28menumerate\u001B[39m(\u001B[38;5;28mzip\u001B[39m (list_of_arrays[\u001B[38;5;241m0\u001B[39m],list_of_arrays[\u001B[38;5;241m1\u001B[39m])):\n\u001B[0;32m      9\u001B[0m         img_path\u001B[38;5;241m=\u001B[39mos\u001B[38;5;241m.\u001B[39mpath\u001B[38;5;241m.\u001B[39mjoin(output_img_folder,\u001B[38;5;124mf\u001B[39m\u001B[38;5;124m\"\u001B[39m\u001B[38;5;132;01m{\u001B[39;00mbatch_nb\u001B[38;5;241m*\u001B[39mBATCH_SIZE\u001B[38;5;241m+\u001B[39mi\u001B[38;5;132;01m}\u001B[39;00m\u001B[38;5;124m.jpg\u001B[39m\u001B[38;5;124m\"\u001B[39m)\n",
      "Cell \u001B[1;32mIn [1], line 10\u001B[0m, in \u001B[0;36mget_batch\u001B[1;34m(file_h5, features, batch_number, batch_size)\u001B[0m\n\u001B[0;32m      8\u001B[0m lb, ub \u001B[38;5;241m=\u001B[39m batch_number \u001B[38;5;241m*\u001B[39m batch_size, (batch_number \u001B[38;5;241m+\u001B[39m \u001B[38;5;241m1\u001B[39m) \u001B[38;5;241m*\u001B[39m batch_size\n\u001B[0;32m      9\u001B[0m \u001B[38;5;28;01mfor\u001B[39;00m feature \u001B[38;5;129;01min\u001B[39;00m features:\n\u001B[1;32m---> 10\u001B[0m     list_of_arrays\u001B[38;5;241m.\u001B[39mappend(\u001B[43mfile_h5\u001B[49m\u001B[43m[\u001B[49m\u001B[43mfeature\u001B[49m\u001B[43m]\u001B[49m\u001B[43m[\u001B[49m\u001B[43mlb\u001B[49m\u001B[43m:\u001B[49m\u001B[43m \u001B[49m\u001B[43mub\u001B[49m\u001B[43m]\u001B[49m)\n\u001B[0;32m     11\u001B[0m \u001B[38;5;28;01mreturn\u001B[39;00m list_of_arrays\n",
      "File \u001B[1;32mh5py\\_objects.pyx:54\u001B[0m, in \u001B[0;36mh5py._objects.with_phil.wrapper\u001B[1;34m()\u001B[0m\n",
      "File \u001B[1;32mh5py\\_objects.pyx:55\u001B[0m, in \u001B[0;36mh5py._objects.with_phil.wrapper\u001B[1;34m()\u001B[0m\n",
      "File \u001B[1;32mD:\\conda\\envs\\genius\\lib\\site-packages\\h5py\\_hl\\dataset.py:741\u001B[0m, in \u001B[0;36mDataset.__getitem__\u001B[1;34m(self, args, new_dtype)\u001B[0m\n\u001B[0;32m    739\u001B[0m \u001B[38;5;28;01mif\u001B[39;00m \u001B[38;5;28mself\u001B[39m\u001B[38;5;241m.\u001B[39m_fast_read_ok \u001B[38;5;129;01mand\u001B[39;00m (new_dtype \u001B[38;5;129;01mis\u001B[39;00m \u001B[38;5;28;01mNone\u001B[39;00m):\n\u001B[0;32m    740\u001B[0m     \u001B[38;5;28;01mtry\u001B[39;00m:\n\u001B[1;32m--> 741\u001B[0m         \u001B[38;5;28;01mreturn\u001B[39;00m \u001B[38;5;28;43mself\u001B[39;49m\u001B[38;5;241;43m.\u001B[39;49m\u001B[43m_fast_reader\u001B[49m\u001B[38;5;241;43m.\u001B[39;49m\u001B[43mread\u001B[49m\u001B[43m(\u001B[49m\u001B[43margs\u001B[49m\u001B[43m)\u001B[49m\n\u001B[0;32m    742\u001B[0m     \u001B[38;5;28;01mexcept\u001B[39;00m \u001B[38;5;167;01mTypeError\u001B[39;00m:\n\u001B[0;32m    743\u001B[0m         \u001B[38;5;28;01mpass\u001B[39;00m  \u001B[38;5;66;03m# Fall back to Python read pathway below\u001B[39;00m\n",
      "\u001B[1;31mKeyboardInterrupt\u001B[0m: "
     ]
    }
   ],
   "source": [
    "import csv\n",
    "import os\n",
    "import cv2\n",
    "with open(output_csv_file, 'w', newline='') as csvfile:\n",
    "    csvwriter = csv.writer(csvfile)\n",
    "    for batch_nb in range(nb_batches):\n",
    "        list_of_arrays = get_batch(file_h5, list_of_features, batch_nb, BATCH_SIZE)\n",
    "        for i,(image,descriptions) in enumerate(zip (list_of_arrays[0],list_of_arrays[1])):\n",
    "            img_path=os.path.join(output_img_folder,f\"{batch_nb*BATCH_SIZE+i}.jpg\")\n",
    "            cv2.imwrite(img_path, cv2.cvtColor(image, cv2.COLOR_RGB2BGR))\n",
    "            for description in descriptions:\n",
    "                csvwriter.writerow([img_path, description.decode(\"ISO-8859-1\") ])\n",
    "\n"
   ],
   "metadata": {
    "collapsed": false,
    "pycharm": {
     "name": "#%%\n"
    }
   }
  },
  {
   "cell_type": "code",
   "execution_count": 20,
   "outputs": [
    {
     "data": {
      "text/plain": "b'Long sleeve cotton canvas bomber jacket featuring camouflage pattern in tones of green, brown, and black. Rib knit stand collar, cuffs, and hem. Two-way zip closure at front. Flap pockets at waist. Utility pocket at upper sleeve. Fully lined. Silver-tone hardware. Tonal stitching.'"
     },
     "execution_count": 20,
     "metadata": {},
     "output_type": "execute_result"
    }
   ],
   "source": [
    "\n",
    "list_of_arrays[1][0][0]"
   ],
   "metadata": {
    "collapsed": false,
    "pycharm": {
     "name": "#%%\n"
    }
   }
  },
  {
   "cell_type": "code",
   "execution_count": 3,
   "outputs": [],
   "source": [
    "# close the file\n",
    "file_h5.close()"
   ],
   "metadata": {
    "collapsed": false,
    "pycharm": {
     "name": "#%%\n"
    }
   }
  }
 ],
 "metadata": {
  "kernelspec": {
   "display_name": "Python 3",
   "language": "python",
   "name": "python3"
  },
  "language_info": {
   "codemirror_mode": {
    "name": "ipython",
    "version": 2
   },
   "file_extension": ".py",
   "mimetype": "text/x-python",
   "name": "python",
   "nbconvert_exporter": "python",
   "pygments_lexer": "ipython2",
   "version": "2.7.6"
  }
 },
 "nbformat": 4,
 "nbformat_minor": 0
}